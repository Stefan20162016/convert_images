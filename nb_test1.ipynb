{
 "cells": [
  {
   "cell_type": "code",
   "execution_count": 19,
   "metadata": {},
   "outputs": [],
   "source": [
    "import time\n",
    "import nvidia.dali.ops as ops\n",
    "import nvidia.dali.types as types\n",
    "import array\n",
    "import numpy as np\n",
    "from nvidia.dali.pipeline import Pipeline\n",
    "\n",
    "class nvJPEGPipeline(Pipeline):\n",
    "    def __init__(self, batch_size, num_threads, device_id):\n",
    "        super(nvJPEGPipeline, self).__init__(batch_size, num_threads, device_id, seed = 12)\n",
    "        self.input = ops.FileReader(file_root = \"/nvme/bm/img\", file_list=\"/nvme/bm/list\")\n",
    "        self.decode = ops.nvJPEGDecoder(device = \"mixed\", output_type = types.GRAY,\n",
    "                                        use_batched_decode=True)\n",
    "        self.resize = ops.Resize(device=\"gpu\",image_type = types.GRAY, resize_x=45., resize_y=55.)\n",
    "        self.cast = ops.Cast(device=\"gpu\", dtype=types.FLOAT)\n",
    "        \n",
    "    def define_graph(self):\n",
    "        jpegs, labels = self.input(name=\"Reader\")\n",
    "        images = self.decode(jpegs)\n",
    "        images = self.resize(images) \n",
    "        images = self.cast(images)\n",
    "        # images are on the GPU\n",
    "        return (images, labels)"
   ]
  },
  {
   "cell_type": "code",
   "execution_count": 20,
   "metadata": {},
   "outputs": [
    {
     "name": "stdout",
     "output_type": "stream",
     "text": [
      "{u'Reader': 202599L}\n"
     ]
    }
   ],
   "source": [
    "BATCH_SIZE=8192\n",
    "pipe = nvJPEGPipeline(BATCH_SIZE, 8, 0)\n",
    "pipe.build()\n",
    "print pipe.epoch_size()\n",
    "\n",
    "#pipe_out = pipe.run()\n",
    "#images, labels = pipe_out\n",
    "#b=images.asCPU()\n",
    "#x=b\n",
    "#print x.at(0)\n",
    "#x.at(0).shape"
   ]
  },
  {
   "cell_type": "code",
   "execution_count": 21,
   "metadata": {},
   "outputs": [
    {
     "name": "stdout",
     "output_type": "stream",
     "text": [
      "202599\n",
      "25\n",
      "0\n",
      "Tue Feb 12 20:46:02 2019\n",
      "1\n",
      "Tue Feb 12 20:46:03 2019\n",
      "2\n",
      "Tue Feb 12 20:46:03 2019\n",
      "3\n",
      "Tue Feb 12 20:46:04 2019\n",
      "4\n",
      "Tue Feb 12 20:46:04 2019\n",
      "5\n",
      "Tue Feb 12 20:46:05 2019\n",
      "6\n",
      "Tue Feb 12 20:46:05 2019\n",
      "7\n",
      "Tue Feb 12 20:46:06 2019\n",
      "8\n",
      "Tue Feb 12 20:46:06 2019\n",
      "9\n",
      "Tue Feb 12 20:46:07 2019\n",
      "10\n",
      "Tue Feb 12 20:46:07 2019\n",
      "11\n",
      "Tue Feb 12 20:46:08 2019\n",
      "12\n",
      "Tue Feb 12 20:46:08 2019\n",
      "13\n",
      "Tue Feb 12 20:46:09 2019\n",
      "14\n",
      "Tue Feb 12 20:46:09 2019\n",
      "15\n",
      "Tue Feb 12 20:46:10 2019\n",
      "16\n",
      "Tue Feb 12 20:46:10 2019\n",
      "17\n",
      "Tue Feb 12 20:46:11 2019\n",
      "18\n",
      "Tue Feb 12 20:46:11 2019\n",
      "19\n",
      "Tue Feb 12 20:46:12 2019\n",
      "20\n",
      "Tue Feb 12 20:46:12 2019\n",
      "21\n",
      "Tue Feb 12 20:46:13 2019\n",
      "22\n",
      "Tue Feb 12 20:46:13 2019\n",
      "23\n",
      "Tue Feb 12 20:46:14 2019\n",
      "24\n",
      "Tue Feb 12 20:46:14 2019\n"
     ]
    }
   ],
   "source": [
    "#print images\n",
    "print pipe.epoch_size(\"Reader\") \n",
    "iters = pipe.epoch_size(\"Reader\")\n",
    "iters_tmp = iters\n",
    "iters = iters // BATCH_SIZE\n",
    "if iters_tmp != iters * BATCH_SIZE:\n",
    "    iters += 1\n",
    "    iters_tmp = iters\n",
    "\n",
    "print iters\n",
    "\n",
    "for j in range(iters):\n",
    "            pipe._start_run()\n",
    "            images, labels = pipe.outputs()\n",
    "            #images, labels = pipe.run()\n",
    "            print j\n",
    "            print time.ctime(time.time())\n",
    "            ##a=images.as_tensor()\n",
    "            ##print a.shape()\n",
    "            ##print a.dtype()\n",
    "            a=images.asCPU()\n",
    "            c=a.as_array()\n",
    "            \n",
    "            with open(\"/nvme/bm/celebA_rev3.bin_notebook_one\", \"ab\") as f:\n",
    "                #f.write(array.array(\"f\", c.ravel()))\n",
    "                np.asarray(c, dtype=np.float32).tofile(f)\n",
    "f.close()\n",
    "\n",
    "            \n",
    "            \n"
   ]
  },
  {
   "cell_type": "code",
   "execution_count": null,
   "metadata": {},
   "outputs": [],
   "source": [
    "images, labels = pipe_out\n",
    "print(\"Images is_dense_tensor: \" + str(images.is_dense_tensor()))\n",
    "print(\"Labels is_dense_tensor: \" + str(labels.is_dense_tensor()))\n"
   ]
  },
  {
   "cell_type": "code",
   "execution_count": null,
   "metadata": {},
   "outputs": [],
   "source": [
    "import array\n",
    "a=images.asCPU()\n",
    "c=a.as_array()\n",
    "with open(\"/nvme/bm/celebA_rev3.bin_notebook\", \"wb\") as f:\n",
    "   f.write(array.array(\"f\", c.ravel()))"
   ]
  },
  {
   "cell_type": "code",
   "execution_count": null,
   "metadata": {},
   "outputs": [],
   "source": [
    "import numpy as np\n",
    "\n",
    "labels_tensor = labels.as_tensor()\n",
    "\n",
    "print (labels_tensor.shape())\n",
    "#print (np.array(labels_tensor))"
   ]
  },
  {
   "cell_type": "code",
   "execution_count": null,
   "metadata": {},
   "outputs": [],
   "source": [
    "#print images.asCPU()\n",
    "#print (images_tensor.shape())\n",
    "#print (np.array(images_tensor).shape)\n",
    "#a= (np.array(images_tensor)[1]).reshape(218,178)\n",
    "#print(images_tensor.asCPU())\n",
    "#plt.imshow(a,cmap='gray')\n",
    "#plt.show()"
   ]
  },
  {
   "cell_type": "code",
   "execution_count": null,
   "metadata": {},
   "outputs": [],
   "source": [
    "pipe_out = pipe.run()\n",
    "images, labels = pipe_out\n",
    "a=images.asCPU()"
   ]
  },
  {
   "cell_type": "code",
   "execution_count": null,
   "metadata": {},
   "outputs": [],
   "source": [
    "from __future__ import division\n",
    "import matplotlib.gridspec as gridspec\n",
    "import matplotlib.pyplot as plt\n",
    "import numpy as np\n",
    "%matplotlib inline\n",
    "\n",
    "def show_images(image_batch):\n",
    "    columns = 4\n",
    "    #rows = (batch_size + 1) // (columns)\n",
    "    rows=4\n",
    "    fig = plt.figure(figsize = (32,(32 // columns) * rows))\n",
    "    gs = gridspec.GridSpec(rows, columns)\n",
    "    for j in range(rows*columns):\n",
    "        plt.subplot(gs[j])\n",
    "        plt.axis(\"off\")\n",
    "        #plt.imshow(image_batch.at(j),cmap=\"gray\")\n",
    "        #a=(np.array(b)[j])\n",
    "        #a=a.reshape(218,178)\n",
    "        plt.imshow( np.array(image_batch.at(j).reshape(55,45) ) ,cmap='gray',norm=None  )"
   ]
  },
  {
   "cell_type": "code",
   "execution_count": null,
   "metadata": {},
   "outputs": [],
   "source": [
    "a.at(0)[0][0]=0.0\n",
    "#a.at(0)[0][0]\n",
    "show_images(a)\n"
   ]
  },
  {
   "cell_type": "code",
   "execution_count": null,
   "metadata": {},
   "outputs": [],
   "source": []
  },
  {
   "cell_type": "code",
   "execution_count": null,
   "metadata": {},
   "outputs": [],
   "source": []
  },
  {
   "cell_type": "code",
   "execution_count": null,
   "metadata": {},
   "outputs": [],
   "source": [
    "#import numpy as np\n",
    "#import matplotlib.pyplot as plt\n",
    "#from PIL import Image\n",
    "\n",
    "#fname = '/home/bm/1.jpg'\n",
    "#image = Image.open(fname).convert(\"L\")\n",
    "#print image\n",
    "#arr = np.asarray(image)\n",
    "#print arr\n",
    "#plt.imshow(arr, cmap='gray')\n",
    "#plt.show()"
   ]
  },
  {
   "cell_type": "code",
   "execution_count": null,
   "metadata": {},
   "outputs": [],
   "source": []
  },
  {
   "cell_type": "code",
   "execution_count": null,
   "metadata": {},
   "outputs": [],
   "source": []
  }
 ],
 "metadata": {
  "kernelspec": {
   "display_name": "Python 2",
   "language": "python",
   "name": "python2"
  },
  "language_info": {
   "codemirror_mode": {
    "name": "ipython",
    "version": 2
   },
   "file_extension": ".py",
   "mimetype": "text/x-python",
   "name": "python",
   "nbconvert_exporter": "python",
   "pygments_lexer": "ipython2",
   "version": "2.7.15rc1"
  },
  "toc": {
   "colors": {
    "hover_highlight": "#DAA520",
    "navigate_num": "#000000",
    "navigate_text": "#333333",
    "running_highlight": "#FF0000",
    "selected_highlight": "#FFD700",
    "sidebar_border": "#EEEEEE",
    "wrapper_background": "#FFFFFF"
   },
   "moveMenuLeft": true,
   "nav_menu": {
    "height": "11.4667px",
    "width": "251.467px"
   },
   "navigate_menu": true,
   "number_sections": true,
   "sideBar": true,
   "threshold": 4,
   "toc_cell": false,
   "toc_section_display": "block",
   "toc_window_display": false,
   "widenNotebook": false
  }
 },
 "nbformat": 4,
 "nbformat_minor": 2
}
